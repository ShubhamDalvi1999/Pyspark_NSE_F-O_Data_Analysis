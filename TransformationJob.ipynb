{
 "cells": [
  {
   "cell_type": "code",
   "execution_count": 1,
   "id": "3e404454",
   "metadata": {},
   "outputs": [],
   "source": [
    "import findspark\n",
    "findspark.init()"
   ]
  },
  {
   "cell_type": "code",
   "execution_count": 2,
   "id": "97731277",
   "metadata": {},
   "outputs": [],
   "source": [
    "from pyspark.sql import SparkSession\n",
    "\n",
    "df= SparkSession.builder.appName(\"NSEProject\").getOrCreate()\n",
    "\n",
    "currentdf = df.read.option(\"header\",\"true\").option(\"inferSchema\",\"true\").csv(\"fo03MAY2023bhav.csv\")\n",
    "\n",
    "prevdf = df.read.option(\"header\",\"true\").option(\"inferSchema\",\"true\").csv(\"fo02MAY2023bhav.csv\")\n"
   ]
  },
  {
   "cell_type": "code",
   "execution_count": 3,
   "id": "30967d68-85fb-438a-b3d6-70b7dc9d698e",
   "metadata": {},
   "outputs": [
    {
     "name": "stdout",
     "output_type": "stream",
     "text": [
      "46622\n"
     ]
    }
   ],
   "source": [
    "print(currentdf.count())"
   ]
  },
  {
   "cell_type": "code",
   "execution_count": 4,
   "id": "6cc07677-81ed-4f83-a91c-3ab8805ace02",
   "metadata": {},
   "outputs": [
    {
     "name": "stdout",
     "output_type": "stream",
     "text": [
      "45840\n"
     ]
    }
   ],
   "source": [
    "print(prevdf.count())"
   ]
  },
  {
   "cell_type": "code",
   "execution_count": 5,
   "id": "4d320a45-53fd-4fc4-9173-3e84a7a4a303",
   "metadata": {},
   "outputs": [
    {
     "name": "stdout",
     "output_type": "stream",
     "text": [
      "root\n",
      " |-- INSTRUMENT: string (nullable = true)\n",
      " |-- SYMBOL: string (nullable = true)\n",
      " |-- EXPIRY_DT: string (nullable = true)\n",
      " |-- STRIKE_PR: double (nullable = true)\n",
      " |-- OPTION_TYP: string (nullable = true)\n",
      " |-- OPEN: double (nullable = true)\n",
      " |-- HIGH: double (nullable = true)\n",
      " |-- LOW: double (nullable = true)\n",
      " |-- CLOSE: double (nullable = true)\n",
      " |-- SETTLE_PR: double (nullable = true)\n",
      " |-- CONTRACTS: integer (nullable = true)\n",
      " |-- VAL_INLAKH: double (nullable = true)\n",
      " |-- OPEN_INT: integer (nullable = true)\n",
      " |-- CHG_IN_OI: integer (nullable = true)\n",
      " |-- TIMESTAMP: string (nullable = true)\n",
      " |-- _c15: string (nullable = true)\n",
      "\n"
     ]
    }
   ],
   "source": [
    "currentdf.printSchema()"
   ]
  },
  {
   "cell_type": "code",
   "execution_count": 6,
   "id": "1d94494d-081f-49fb-be73-f68caf5120b1",
   "metadata": {},
   "outputs": [
    {
     "name": "stdout",
     "output_type": "stream",
     "text": [
      "root\n",
      " |-- INSTRUMENT: string (nullable = true)\n",
      " |-- SYMBOL: string (nullable = true)\n",
      " |-- EXPIRY_DT: string (nullable = true)\n",
      " |-- STRIKE_PR: double (nullable = true)\n",
      " |-- OPTION_TYP: string (nullable = true)\n",
      " |-- OPEN: double (nullable = true)\n",
      " |-- HIGH: double (nullable = true)\n",
      " |-- LOW: double (nullable = true)\n",
      " |-- CLOSE: double (nullable = true)\n",
      " |-- SETTLE_PR: double (nullable = true)\n",
      " |-- CONTRACTS: integer (nullable = true)\n",
      " |-- VAL_INLAKH: double (nullable = true)\n",
      " |-- OPEN_INT: integer (nullable = true)\n",
      " |-- CHG_IN_OI: integer (nullable = true)\n",
      " |-- TIMESTAMP: string (nullable = true)\n",
      " |-- _c15: string (nullable = true)\n",
      "\n"
     ]
    }
   ],
   "source": [
    "prevdf.printSchema()"
   ]
  },
  {
   "attachments": {},
   "cell_type": "markdown",
   "id": "b341a6fd-1c4c-40cd-9e6b-0114c6bb5e3c",
   "metadata": {},
   "source": [
    "**Including only \"Instruments\" having only either \"FUTIDX\" or \"FUTSTX\" valueS in the output**"
   ]
  },
  {
   "cell_type": "code",
   "execution_count": 7,
   "id": "87f7cb71-04d8-4fd8-b29c-b7013b3fd91f",
   "metadata": {},
   "outputs": [],
   "source": [
    "from pyspark.sql.functions import col\n",
    "newcurrdff= currentdf.filter(col(\"INSTRUMENT\").isin([\"FUTIDX\",\"FUTSTK\"]))\n",
    "newprevdff = prevdf.filter(col(\"INSTRUMENT\").isin([\"FUTIDX\",\"FUTSTK\"]))"
   ]
  },
  {
   "cell_type": "code",
   "execution_count": 8,
   "id": "25edc228-1831-4293-86d0-4ba2acce4709",
   "metadata": {},
   "outputs": [
    {
     "name": "stdout",
     "output_type": "stream",
     "text": [
      "577\n"
     ]
    }
   ],
   "source": [
    "print(newcurrdff.count())"
   ]
  },
  {
   "cell_type": "code",
   "execution_count": 9,
   "id": "8f4fc89e-61d1-44ea-ae1a-1558a233f65a",
   "metadata": {},
   "outputs": [
    {
     "name": "stdout",
     "output_type": "stream",
     "text": [
      "577\n"
     ]
    }
   ],
   "source": [
    "print(newprevdff.count())"
   ]
  },
  {
   "attachments": {},
   "cell_type": "markdown",
   "id": "824076ac-93c2-40ec-972f-84960bd3bf9a",
   "metadata": {},
   "source": [
    "**Now Filtering the index on the nearest Expiry Date 25-05-2023 after coverting date column into dd-mm-yyy format**"
   ]
  },
  {
   "cell_type": "code",
   "execution_count": 10,
   "id": "4367081a-a011-489b-8aa5-ae52d3f0a54f",
   "metadata": {},
   "outputs": [],
   "source": [
    "from pyspark.sql.functions import to_date,regexp_replace\n",
    "import datetime\n",
    "import calendar\n",
    "\n",
    "\n",
    "#first converting the date column into \"dd-MM-yyyy\" format which currently is in formate 02-May-2023\n",
    "curr_month_two_digit = str(datetime.date.today().strftime('%m'))\n",
    "curr_month           = datetime.datetime.now().month\n",
    "get_short_month_name = str(calendar.month_abbr[curr_month])\n",
    "\n",
    "# print(\"get_short_month_name: \"+get_short_month_name)\n",
    "# print(\"curr_month: \"+curr_month_two_digit)\n",
    "\n",
    "#changing the DF\n",
    "currdf = newcurrdff.withColumn(\"EXPIRY_DT_NUM\", regexp_replace(col(\"EXPIRY_DT\"), str(get_short_month_name) , str(curr_month_two_digit)))\n",
    "prevdf = newprevdff.withColumn(\"EXPIRY_DT_NUM\", regexp_replace(col(\"EXPIRY_DT\"), str(get_short_month_name) , str(curr_month_two_digit)))\n"
   ]
  },
  {
   "cell_type": "code",
   "execution_count": 11,
   "id": "f56a40ca-085a-4507-b164-f0c8a5c3d6c0",
   "metadata": {},
   "outputs": [
    {
     "data": {
      "text/plain": [
       "[Row(INSTRUMENT='FUTIDX', SYMBOL='BANKNIFTY', STRIKE_PR=0.0, OPTION_TYP='XX', OPEN=43152.0, HIGH=43348.0, LOW=43116.95, CLOSE=43311.6, SETTLE_PR=43311.6, CONTRACTS=84232, VAL_INLAKH=910482.61, OPEN_INT=2312900, CHG_IN_OI=6800, TIMESTAMP='03-MAY-2023', _c15=None, EXPIRY_DT_NUM='25-05-2023'),\n",
       " Row(INSTRUMENT='FUTIDX', SYMBOL='BANKNIFTY', STRIKE_PR=0.0, OPTION_TYP='XX', OPEN=43361.45, HIGH=43490.0, LOW=43262.0, CLOSE=43456.05, SETTLE_PR=43456.05, CONTRACTS=4061, VAL_INLAKH=44034.71, OPEN_INT=224325, CHG_IN_OI=12675, TIMESTAMP='03-MAY-2023', _c15=None, EXPIRY_DT_NUM='29-Jun-2023'),\n",
       " Row(INSTRUMENT='FUTIDX', SYMBOL='BANKNIFTY', STRIKE_PR=0.0, OPTION_TYP='XX', OPEN=43449.95, HIGH=43617.3, LOW=43417.05, CLOSE=43582.95, SETTLE_PR=43582.95, CONTRACTS=878, VAL_INLAKH=5730.59, OPEN_INT=15960, CHG_IN_OI=2400, TIMESTAMP='03-MAY-2023', _c15=None, EXPIRY_DT_NUM='27-Jul-2023')]"
      ]
     },
     "execution_count": 11,
     "metadata": {},
     "output_type": "execute_result"
    }
   ],
   "source": [
    "currdropdf= currdf.drop(col(\"EXPIRY_DT\"))\n",
    "currdropdf.take(3)"
   ]
  },
  {
   "cell_type": "code",
   "execution_count": 12,
   "id": "424d54c0-5c49-484e-98eb-27edcc37f479",
   "metadata": {},
   "outputs": [
    {
     "data": {
      "text/plain": [
       "[Row(INSTRUMENT='FUTIDX', SYMBOL='BANKNIFTY', STRIKE_PR=0.0, OPTION_TYP='XX', OPEN=43360.0, HIGH=43479.0, LOW=43255.65, CLOSE=43367.25, SETTLE_PR=43367.25, CONTRACTS=79128, VAL_INLAKH=858521.16, OPEN_INT=2306100, CHG_IN_OI=15400, TIMESTAMP='02-MAY-2023', _c15=None, EXPIRY_DT_NUM='25-05-2023'),\n",
       " Row(INSTRUMENT='FUTIDX', SYMBOL='BANKNIFTY', STRIKE_PR=0.0, OPTION_TYP='XX', OPEN=43392.35, HIGH=43606.85, LOW=43392.35, CLOSE=43500.8, SETTLE_PR=43500.8, CONTRACTS=4752, VAL_INLAKH=51718.85, OPEN_INT=211650, CHG_IN_OI=21000, TIMESTAMP='02-MAY-2023', _c15=None, EXPIRY_DT_NUM='29-Jun-2023'),\n",
       " Row(INSTRUMENT='FUTIDX', SYMBOL='BANKNIFTY', STRIKE_PR=0.0, OPTION_TYP='XX', OPEN=43627.0, HIGH=43735.0, LOW=43576.15, CLOSE=43660.55, SETTLE_PR=43660.55, CONTRACTS=1436, VAL_INLAKH=9410.41, OPEN_INT=13560, CHG_IN_OI=7155, TIMESTAMP='02-MAY-2023', _c15=None, EXPIRY_DT_NUM='27-Jul-2023')]"
      ]
     },
     "execution_count": 12,
     "metadata": {},
     "output_type": "execute_result"
    }
   ],
   "source": [
    "prevdropdf= prevdf.drop(col(\"EXPIRY_DT\"))\n",
    "prevdropdf.take(3)"
   ]
  },
  {
   "cell_type": "code",
   "execution_count": 13,
   "id": "4779be84-6899-47ed-afd6-bf086ae37a87",
   "metadata": {},
   "outputs": [],
   "source": [
    "current_df=currdropdf.filter(col(\"EXPIRY_DT_NUM\").isin(\"25-05-2023\"))\n",
    "prev_df=prevdropdf.filter(col(\"EXPIRY_DT_NUM\").isin(\"25-05-2023\"))"
   ]
  },
  {
   "cell_type": "code",
   "execution_count": 14,
   "id": "ba58f646-0556-475e-bbb5-c793e7991041",
   "metadata": {},
   "outputs": [
    {
     "data": {
      "text/plain": [
       "[Row(INSTRUMENT='FUTIDX', SYMBOL='BANKNIFTY', STRIKE_PR=0.0, OPTION_TYP='XX', OPEN=43152.0, HIGH=43348.0, LOW=43116.95, CLOSE=43311.6, SETTLE_PR=43311.6, CONTRACTS=84232, VAL_INLAKH=910482.61, OPEN_INT=2312900, CHG_IN_OI=6800, TIMESTAMP='03-MAY-2023', _c15=None, EXPIRY_DT_NUM='25-05-2023'),\n",
       " Row(INSTRUMENT='FUTIDX', SYMBOL='NIFTY', STRIKE_PR=0.0, OPTION_TYP='XX', OPEN=18154.9, HIGH=18180.0, LOW=18100.3, CLOSE=18149.95, SETTLE_PR=18149.95, CONTRACTS=135798, VAL_INLAKH=1231729.89, OPEN_INT=9573200, CHG_IN_OI=-13900, TIMESTAMP='03-MAY-2023', _c15=None, EXPIRY_DT_NUM='25-05-2023'),\n",
       " Row(INSTRUMENT='FUTSTK', SYMBOL='AARTIIND', STRIKE_PR=0.0, OPTION_TYP='XX', OPEN=558.7, HIGH=560.4, LOW=552.15, CLOSE=553.75, SETTLE_PR=553.75, CONTRACTS=863, VAL_INLAKH=4080.17, OPEN_INT=3473950, CHG_IN_OI=45050, TIMESTAMP='03-MAY-2023', _c15=None, EXPIRY_DT_NUM='25-05-2023'),\n",
       " Row(INSTRUMENT='FUTSTK', SYMBOL='ABB', STRIKE_PR=0.0, OPTION_TYP='XX', OPEN=3449.45, HIGH=3505.0, LOW=3423.15, CLOSE=3477.1, SETTLE_PR=3477.1, CONTRACTS=1967, VAL_INLAKH=17060.81, OPEN_INT=1432000, CHG_IN_OI=129500, TIMESTAMP='03-MAY-2023', _c15=None, EXPIRY_DT_NUM='25-05-2023'),\n",
       " Row(INSTRUMENT='FUTSTK', SYMBOL='ABBOTINDIA', STRIKE_PR=0.0, OPTION_TYP='XX', OPEN=22434.55, HIGH=22779.75, LOW=22407.4, CLOSE=22728.75, SETTLE_PR=22728.75, CONTRACTS=292, VAL_INLAKH=2646.25, OPEN_INT=68080, CHG_IN_OI=2080, TIMESTAMP='03-MAY-2023', _c15=None, EXPIRY_DT_NUM='25-05-2023')]"
      ]
     },
     "execution_count": 14,
     "metadata": {},
     "output_type": "execute_result"
    }
   ],
   "source": [
    "current_df.take(5)"
   ]
  },
  {
   "cell_type": "code",
   "execution_count": 15,
   "id": "bd22edef-d857-4a66-b6ce-7efdec15ec53",
   "metadata": {},
   "outputs": [
    {
     "data": {
      "text/plain": [
       "[Row(INSTRUMENT='FUTIDX', SYMBOL='BANKNIFTY', STRIKE_PR=0.0, OPTION_TYP='XX', OPEN=43360.0, HIGH=43479.0, LOW=43255.65, CLOSE=43367.25, SETTLE_PR=43367.25, CONTRACTS=79128, VAL_INLAKH=858521.16, OPEN_INT=2306100, CHG_IN_OI=15400, TIMESTAMP='02-MAY-2023', _c15=None, EXPIRY_DT_NUM='25-05-2023'),\n",
       " Row(INSTRUMENT='FUTIDX', SYMBOL='NIFTY', STRIKE_PR=0.0, OPTION_TYP='XX', OPEN=18180.45, HIGH=18247.25, LOW=18180.45, CLOSE=18213.15, SETTLE_PR=18213.15, CONTRACTS=114511, VAL_INLAKH=1043095.75, OPEN_INT=9587100, CHG_IN_OI=832600, TIMESTAMP='02-MAY-2023', _c15=None, EXPIRY_DT_NUM='25-05-2023'),\n",
       " Row(INSTRUMENT='FUTSTK', SYMBOL='AARTIIND', STRIKE_PR=0.0, OPTION_TYP='XX', OPEN=564.05, HIGH=568.4, LOW=558.6, CLOSE=559.65, SETTLE_PR=559.65, CONTRACTS=1254, VAL_INLAKH=5996.38, OPEN_INT=3428900, CHG_IN_OI=162350, TIMESTAMP='02-MAY-2023', _c15=None, EXPIRY_DT_NUM='25-05-2023'),\n",
       " Row(INSTRUMENT='FUTSTK', SYMBOL='ABB', STRIKE_PR=0.0, OPTION_TYP='XX', OPEN=3438.7, HIGH=3483.0, LOW=3412.0, CLOSE=3458.05, SETTLE_PR=3458.05, CONTRACTS=1901, VAL_INLAKH=16383.29, OPEN_INT=1302500, CHG_IN_OI=4250, TIMESTAMP='02-MAY-2023', _c15=None, EXPIRY_DT_NUM='25-05-2023'),\n",
       " Row(INSTRUMENT='FUTSTK', SYMBOL='ABBOTINDIA', STRIKE_PR=0.0, OPTION_TYP='XX', OPEN=22452.9, HIGH=22738.1, LOW=22450.15, CLOSE=22499.75, SETTLE_PR=22499.75, CONTRACTS=356, VAL_INLAKH=3216.01, OPEN_INT=66000, CHG_IN_OI=1320, TIMESTAMP='02-MAY-2023', _c15=None, EXPIRY_DT_NUM='25-05-2023')]"
      ]
     },
     "execution_count": 15,
     "metadata": {},
     "output_type": "execute_result"
    }
   ],
   "source": [
    "prev_df.take(5)"
   ]
  },
  {
   "cell_type": "code",
   "execution_count": 16,
   "id": "82545d06-6a0d-46b5-a593-33049bd79054",
   "metadata": {},
   "outputs": [
    {
     "data": {
      "text/plain": [
       "190"
      ]
     },
     "execution_count": 16,
     "metadata": {},
     "output_type": "execute_result"
    }
   ],
   "source": [
    "prev_df.count()"
   ]
  },
  {
   "cell_type": "code",
   "execution_count": 17,
   "id": "f49d2fc5-effd-4d7b-9649-b0175b7f8455",
   "metadata": {},
   "outputs": [
    {
     "data": {
      "text/plain": [
       "190"
      ]
     },
     "execution_count": 17,
     "metadata": {},
     "output_type": "execute_result"
    }
   ],
   "source": [
    "current_df.count()"
   ]
  },
  {
   "attachments": {},
   "cell_type": "markdown",
   "id": "777416cb",
   "metadata": {},
   "source": [
    "**Saving progress till now in a seperate csv file**"
   ]
  },
  {
   "cell_type": "code",
   "execution_count": 18,
   "id": "d302d7e4-8a0b-47fa-898b-9b22abc87bd2",
   "metadata": {},
   "outputs": [],
   "source": [
    "from pyspark import SparkConf\n",
    "\n",
    "conf = SparkConf().setAppName(\"NSEProject\").setMaster(\"local[*]\").set(\"spark.hadoop.fs.file.impl\", \"org.apache.hadoop.fs.RawLocalFileSystem\")\n",
    "\n",
    "spark = SparkSession.builder.config(conf=conf).getOrCreate()\n",
    "\n",
    "current_df.write.format(\"csv\").save(\"fo03May23.csv\")"
   ]
  },
  {
   "cell_type": "code",
   "execution_count": 19,
   "id": "2846365c-c683-4bd0-a5f4-99a401dec3b2",
   "metadata": {},
   "outputs": [],
   "source": [
    "current_df.write.csv(\"fando03May23.csv\", header=True)\n",
    "prev_df.write.csv(\"fando02May23.csv\", header=True)"
   ]
  },
  {
   "attachments": {},
   "cell_type": "markdown",
   "id": "842bf144-77d9-4a14-9707-12224a6b0dc2",
   "metadata": {},
   "source": [
    "**Completed Initial filtering of Data, READY for transformation**"
   ]
  },
  {
   "cell_type": "code",
   "execution_count": 20,
   "id": "b9fca060-ba8a-4115-ad48-3e99edaafef0",
   "metadata": {},
   "outputs": [],
   "source": [
    "currentdf = spark.read.option(\"header\",\"true\").option(\"inferSchema\",\"true\").csv(\"fando03May23.csv\")\n",
    "\n",
    "prevdf = spark.read.option(\"header\",\"true\").option(\"inferSchema\",\"true\").csv(\"fando02May23.csv\")"
   ]
  },
  {
   "cell_type": "code",
   "execution_count": 21,
   "id": "b677af9f-db7a-401b-831b-bde8b5dfc4e9",
   "metadata": {},
   "outputs": [],
   "source": [
    "# prev_close= prevdf.select(col(\"CLOSE\").alias(\"NEW_COL\"))\n",
    "# print(prev_close.NEW_COL)\n",
    "# current_new_df= currentdf.withColumn(\"PREV_CLOSE\",prev_close.NEW_COL)"
   ]
  },
  {
   "attachments": {},
   "cell_type": "markdown",
   "id": "3fb2ea98-5c72-4ce8-97e5-036abf052bd4",
   "metadata": {},
   "source": [
    "**renaming the prev data csv columns and joining the data with curr csv to transform**"
   ]
  },
  {
   "cell_type": "code",
   "execution_count": 22,
   "id": "aba0dc25-8920-40a7-9715-03c81ad7032a",
   "metadata": {},
   "outputs": [],
   "source": [
    "prevdf_renamed = prevdf.select([col(c).alias(c + '_prev') for c in prevdf.columns])"
   ]
  },
  {
   "cell_type": "code",
   "execution_count": 23,
   "id": "4509327b-1844-4976-ac79-9100c6966c67",
   "metadata": {},
   "outputs": [
    {
     "name": "stdout",
     "output_type": "stream",
     "text": [
      "root\n",
      " |-- INSTRUMENT_prev: string (nullable = true)\n",
      " |-- SYMBOL_prev: string (nullable = true)\n",
      " |-- STRIKE_PR_prev: double (nullable = true)\n",
      " |-- OPTION_TYP_prev: string (nullable = true)\n",
      " |-- OPEN_prev: double (nullable = true)\n",
      " |-- HIGH_prev: double (nullable = true)\n",
      " |-- LOW_prev: double (nullable = true)\n",
      " |-- CLOSE_prev: double (nullable = true)\n",
      " |-- SETTLE_PR_prev: double (nullable = true)\n",
      " |-- CONTRACTS_prev: integer (nullable = true)\n",
      " |-- VAL_INLAKH_prev: double (nullable = true)\n",
      " |-- OPEN_INT_prev: integer (nullable = true)\n",
      " |-- CHG_IN_OI_prev: integer (nullable = true)\n",
      " |-- TIMESTAMP_prev: string (nullable = true)\n",
      " |-- _c15_prev: string (nullable = true)\n",
      " |-- EXPIRY_DT_NUM_prev: string (nullable = true)\n",
      "\n"
     ]
    }
   ],
   "source": [
    "prevdf_renamed.printSchema()"
   ]
  },
  {
   "cell_type": "code",
   "execution_count": 24,
   "id": "7f047cc0-1e6a-47bf-85f2-c2b1fd47b5ba",
   "metadata": {},
   "outputs": [
    {
     "name": "stdout",
     "output_type": "stream",
     "text": [
      "root\n",
      " |-- INSTRUMENT: string (nullable = true)\n",
      " |-- SYMBOL: string (nullable = true)\n",
      " |-- STRIKE_PR: double (nullable = true)\n",
      " |-- OPTION_TYP: string (nullable = true)\n",
      " |-- OPEN: double (nullable = true)\n",
      " |-- HIGH: double (nullable = true)\n",
      " |-- LOW: double (nullable = true)\n",
      " |-- CLOSE: double (nullable = true)\n",
      " |-- SETTLE_PR: double (nullable = true)\n",
      " |-- CONTRACTS: integer (nullable = true)\n",
      " |-- VAL_INLAKH: double (nullable = true)\n",
      " |-- OPEN_INT: integer (nullable = true)\n",
      " |-- CHG_IN_OI: integer (nullable = true)\n",
      " |-- TIMESTAMP: string (nullable = true)\n",
      " |-- _c15: string (nullable = true)\n",
      " |-- EXPIRY_DT_NUM: string (nullable = true)\n",
      "\n"
     ]
    }
   ],
   "source": [
    "currentdf.printSchema()"
   ]
  },
  {
   "attachments": {},
   "cell_type": "markdown",
   "id": "fe558e6e-b01b-4fee-92fc-4328e48097f1",
   "metadata": {},
   "source": [
    "**Adding \"close_prev row from prev date csv file\" to \"current date csv file\" to compare prices**"
   ]
  },
  {
   "cell_type": "code",
   "execution_count": 25,
   "id": "a30299bc-735c-4a7a-8fc5-279aea48c1e4",
   "metadata": {},
   "outputs": [],
   "source": [
    "# currentdf[\"CLOSE_PREV\"]= prevdf_renamed['CLOSE_prev'].astype('double')\n",
    "\n",
    "#if we dont use pandas library we get column not iterable error\n",
    "import pandas as pd\n",
    "# PREVCOL=pd.DataFrame(prevdf_renamed['CLOSE_prev'])\n",
    "PREVCOL=prevdf_renamed.select(\"CLOSE_prev\").toPandas()\n",
    "\n",
    "#converting df to pandas\n",
    "current_panda_df =currentdf.toPandas()\n",
    "\n",
    "# currentdf = currentdf.withColumn(\"PREV\", PREVCOL)\n",
    "currentdf = current_panda_df.join(PREVCOL)"
   ]
  },
  {
   "cell_type": "code",
   "execution_count": 26,
   "id": "18df7558-2c45-48b3-a696-0220acba8b53",
   "metadata": {},
   "outputs": [
    {
     "name": "stdout",
     "output_type": "stream",
     "text": [
      "<class 'pandas.core.frame.DataFrame'>\n",
      "RangeIndex: 190 entries, 0 to 189\n",
      "Data columns (total 17 columns):\n",
      " #   Column         Non-Null Count  Dtype  \n",
      "---  ------         --------------  -----  \n",
      " 0   INSTRUMENT     190 non-null    object \n",
      " 1   SYMBOL         190 non-null    object \n",
      " 2   STRIKE_PR      190 non-null    float64\n",
      " 3   OPTION_TYP     190 non-null    object \n",
      " 4   OPEN           190 non-null    float64\n",
      " 5   HIGH           190 non-null    float64\n",
      " 6   LOW            190 non-null    float64\n",
      " 7   CLOSE          190 non-null    float64\n",
      " 8   SETTLE_PR      190 non-null    float64\n",
      " 9   CONTRACTS      190 non-null    int32  \n",
      " 10  VAL_INLAKH     190 non-null    float64\n",
      " 11  OPEN_INT       190 non-null    int32  \n",
      " 12  CHG_IN_OI      190 non-null    int32  \n",
      " 13  TIMESTAMP      190 non-null    object \n",
      " 14  _c15           0 non-null      object \n",
      " 15  EXPIRY_DT_NUM  190 non-null    object \n",
      " 16  CLOSE_prev     190 non-null    float64\n",
      "dtypes: float64(8), int32(3), object(6)\n",
      "memory usage: 23.1+ KB\n",
      "None\n"
     ]
    }
   ],
   "source": [
    "print(currentdf.info())"
   ]
  },
  {
   "cell_type": "code",
   "execution_count": 27,
   "id": "b3cc77c3-7e90-4eb0-be72-b5c48713f684",
   "metadata": {},
   "outputs": [],
   "source": [
    "# mergeddf= spark.createDataFrame(currentdf)\n",
    "# mergeddf.take(4)\n",
    "# gives error that some schema cannot be infered\n",
    "#LEARNING"
   ]
  },
  {
   "cell_type": "code",
   "execution_count": 28,
   "id": "a391fc72-4269-42dd-a98e-2f6c7a798c3b",
   "metadata": {},
   "outputs": [
    {
     "name": "stdout",
     "output_type": "stream",
     "text": [
      "+----------+---------+---------+----------+-------+-------+--------+--------+---------+---------+----------+--------+---------+-----------+----+----------+----------+\n",
      "|INSTRUMENT|   SYMBOL|STRIKE_PR|OPTION_TYP|   OPEN|   HIGH|     LOW|   CLOSE|SETTLE_PR|CONTRACTS|VAL_INLAKH|OPEN_INT|CHG_IN_OI|  TIMESTAMP|_c15| EXPIRY_DT|CLOSE_prev|\n",
      "+----------+---------+---------+----------+-------+-------+--------+--------+---------+---------+----------+--------+---------+-----------+----+----------+----------+\n",
      "|    FUTIDX|BANKNIFTY|      0.0|        XX|43152.0|43348.0|43116.95| 43311.6|  43311.6|    84232|  910482.6| 2312900|     6800|03-MAY-2023|null|25-05-2023|  43367.25|\n",
      "|    FUTIDX|    NIFTY|      0.0|        XX|18154.9|18180.0| 18100.3|18149.95| 18149.95|   135798| 1231729.9| 9573200|   -13900|03-MAY-2023|null|25-05-2023|  18213.15|\n",
      "|    FUTSTK| AARTIIND|      0.0|        XX|  558.7|  560.4|  552.15|  553.75|   553.75|      863|   4080.17| 3473950|    45050|03-MAY-2023|null|25-05-2023|    559.65|\n",
      "|    FUTSTK|      ABB|      0.0|        XX|3449.45| 3505.0| 3423.15|  3477.1|   3477.1|     1967|  17060.81| 1432000|   129500|03-MAY-2023|null|25-05-2023|   3458.05|\n",
      "+----------+---------+---------+----------+-------+-------+--------+--------+---------+---------+----------+--------+---------+-----------+----+----------+----------+\n",
      "only showing top 4 rows\n",
      "\n"
     ]
    }
   ],
   "source": [
    "from pyspark.sql.types import StructType, StructField, StringType, IntegerType, FloatType\n",
    "\n",
    "# Define the schema for your DataFrame\n",
    "schema = StructType([\n",
    "    StructField(\"INSTRUMENT\", StringType(), True),\n",
    "    StructField(\"SYMBOL\", StringType(), True),\n",
    "    StructField(\"STRIKE_PR\", FloatType(), True),\n",
    "    StructField(\"OPTION_TYP\", StringType(), True),\n",
    "    StructField(\"OPEN\", FloatType(), True),\n",
    "    StructField(\"HIGH\", FloatType(), True),\n",
    "    StructField(\"LOW\", FloatType(), True),\n",
    "    StructField(\"CLOSE\", FloatType(), True),\n",
    "    StructField(\"SETTLE_PR\", FloatType(), True),\n",
    "    StructField(\"CONTRACTS\", IntegerType(), True),\n",
    "    StructField(\"VAL_INLAKH\", FloatType(), True),\n",
    "    StructField(\"OPEN_INT\", IntegerType(), True),\n",
    "    StructField(\"CHG_IN_OI\", IntegerType(), True),\n",
    "    StructField(\"TIMESTAMP\", StringType(), True),\n",
    "    StructField(\"_c15\", StringType(), True),\n",
    "    StructField(\"EXPIRY_DT\", StringType(), True),\n",
    "    StructField(\"CLOSE_prev\", FloatType(), True)\n",
    "])\n",
    "\n",
    "# Create the Spark DataFrame using the specified schema\n",
    "mergeddf = spark.createDataFrame(currentdf, schema=schema)\n",
    "\n",
    "# Show the first 4 rows of the DataFrame\n",
    "mergeddf.show(4)\n"
   ]
  },
  {
   "cell_type": "code",
   "execution_count": 29,
   "id": "464579f9-fc5f-4794-8062-5efa5e39a58d",
   "metadata": {},
   "outputs": [
    {
     "data": {
      "text/plain": [
       "190"
      ]
     },
     "execution_count": 29,
     "metadata": {},
     "output_type": "execute_result"
    }
   ],
   "source": [
    "mergeddf.count()"
   ]
  },
  {
   "attachments": {},
   "cell_type": "markdown",
   "id": "c03a7d4e-9bea-4fd2-852e-67d7d32362ac",
   "metadata": {},
   "source": [
    "**Adding \"open interest row from prev date csv file\" to \"current date csv file\" to compare prices**"
   ]
  },
  {
   "cell_type": "code",
   "execution_count": 30,
   "id": "3147ee7e-6a35-4a85-b933-6a6fb3143b22",
   "metadata": {},
   "outputs": [],
   "source": [
    "PREVCOL=prevdf_renamed.select(\"OPEN_INT_prev\").toPandas()\n",
    "\n",
    "#converting df to pandas\n",
    "merged_panda_df =mergeddf.toPandas()\n",
    "\n",
    "# currentdf = currentdf.withColumn(\"PREV\", PREVCOL)\n",
    "currentdf = merged_panda_df.join(PREVCOL)"
   ]
  },
  {
   "cell_type": "code",
   "execution_count": 31,
   "id": "b9af5bba-acf8-4b6b-84fe-fc220b29c003",
   "metadata": {},
   "outputs": [
    {
     "name": "stdout",
     "output_type": "stream",
     "text": [
      "<class 'pandas.core.frame.DataFrame'>\n",
      "RangeIndex: 190 entries, 0 to 189\n",
      "Data columns (total 18 columns):\n",
      " #   Column         Non-Null Count  Dtype  \n",
      "---  ------         --------------  -----  \n",
      " 0   INSTRUMENT     190 non-null    object \n",
      " 1   SYMBOL         190 non-null    object \n",
      " 2   STRIKE_PR      190 non-null    float32\n",
      " 3   OPTION_TYP     190 non-null    object \n",
      " 4   OPEN           190 non-null    float32\n",
      " 5   HIGH           190 non-null    float32\n",
      " 6   LOW            190 non-null    float32\n",
      " 7   CLOSE          190 non-null    float32\n",
      " 8   SETTLE_PR      190 non-null    float32\n",
      " 9   CONTRACTS      190 non-null    int32  \n",
      " 10  VAL_INLAKH     190 non-null    float32\n",
      " 11  OPEN_INT       190 non-null    int32  \n",
      " 12  CHG_IN_OI      190 non-null    int32  \n",
      " 13  TIMESTAMP      190 non-null    object \n",
      " 14  _c15           0 non-null      object \n",
      " 15  EXPIRY_DT      190 non-null    object \n",
      " 16  CLOSE_prev     190 non-null    float32\n",
      " 17  OPEN_INT_prev  190 non-null    int32  \n",
      "dtypes: float32(8), int32(4), object(6)\n",
      "memory usage: 17.9+ KB\n",
      "None\n"
     ]
    }
   ],
   "source": [
    "print(currentdf.info())"
   ]
  },
  {
   "cell_type": "code",
   "execution_count": 32,
   "id": "6da82746-7b08-4702-93ed-68276997269c",
   "metadata": {},
   "outputs": [
    {
     "name": "stdout",
     "output_type": "stream",
     "text": [
      "+----------+---------+---------+----------+-------+-------+--------+--------+---------+---------+----------+--------+---------+-----------+----+----------+----------+-------------+\n",
      "|INSTRUMENT|   SYMBOL|STRIKE_PR|OPTION_TYP|   OPEN|   HIGH|     LOW|   CLOSE|SETTLE_PR|CONTRACTS|VAL_INLAKH|OPEN_INT|CHG_IN_OI|  TIMESTAMP|_c15| EXPIRY_DT|CLOSE_prev|OPEN_INT_prev|\n",
      "+----------+---------+---------+----------+-------+-------+--------+--------+---------+---------+----------+--------+---------+-----------+----+----------+----------+-------------+\n",
      "|    FUTIDX|BANKNIFTY|      0.0|        XX|43152.0|43348.0|43116.95| 43311.6|  43311.6|    84232|  910482.6| 2312900|     6800|03-MAY-2023|null|25-05-2023|  43367.25|      2306100|\n",
      "|    FUTIDX|    NIFTY|      0.0|        XX|18154.9|18180.0| 18100.3|18149.95| 18149.95|   135798| 1231729.9| 9573200|   -13900|03-MAY-2023|null|25-05-2023|  18213.15|      9587100|\n",
      "|    FUTSTK| AARTIIND|      0.0|        XX|  558.7|  560.4|  552.15|  553.75|   553.75|      863|   4080.17| 3473950|    45050|03-MAY-2023|null|25-05-2023|    559.65|      3428900|\n",
      "|    FUTSTK|      ABB|      0.0|        XX|3449.45| 3505.0| 3423.15|  3477.1|   3477.1|     1967|  17060.81| 1432000|   129500|03-MAY-2023|null|25-05-2023|   3458.05|      1302500|\n",
      "+----------+---------+---------+----------+-------+-------+--------+--------+---------+---------+----------+--------+---------+-----------+----+----------+----------+-------------+\n",
      "only showing top 4 rows\n",
      "\n"
     ]
    }
   ],
   "source": [
    "from pyspark.sql.types import StructType, StructField, StringType, IntegerType, FloatType\n",
    "\n",
    "# Define the schema for your DataFrame\n",
    "schema = StructType([\n",
    "    StructField(\"INSTRUMENT\", StringType(), True),\n",
    "    StructField(\"SYMBOL\", StringType(), True),\n",
    "    StructField(\"STRIKE_PR\", FloatType(), True),\n",
    "    StructField(\"OPTION_TYP\", StringType(), True),\n",
    "    StructField(\"OPEN\", FloatType(), True),\n",
    "    StructField(\"HIGH\", FloatType(), True),\n",
    "    StructField(\"LOW\", FloatType(), True),\n",
    "    StructField(\"CLOSE\", FloatType(), True),\n",
    "    StructField(\"SETTLE_PR\", FloatType(), True),\n",
    "    StructField(\"CONTRACTS\", IntegerType(), True),\n",
    "    StructField(\"VAL_INLAKH\", FloatType(), True),\n",
    "    StructField(\"OPEN_INT\", IntegerType(), True),\n",
    "    StructField(\"CHG_IN_OI\", IntegerType(), True),\n",
    "    StructField(\"TIMESTAMP\", StringType(), True),\n",
    "    StructField(\"_c15\", StringType(), True),\n",
    "    StructField(\"EXPIRY_DT\", StringType(), True),\n",
    "    StructField(\"CLOSE_prev\", FloatType(), True),\n",
    "    StructField(\"OPEN_INT_prev\", IntegerType(), True)\n",
    "])\n",
    "\n",
    "# Create the Spark DataFrame using the specified schema\n",
    "mergeddf = spark.createDataFrame(currentdf, schema=schema)\n",
    "\n",
    "# Show the first 4 rows of the DataFrame\n",
    "mergeddf.show(4)"
   ]
  },
  {
   "cell_type": "code",
   "execution_count": 33,
   "id": "0694a42b-53e9-4290-b96a-f0836b1a7b1d",
   "metadata": {},
   "outputs": [
    {
     "data": {
      "text/plain": [
       "190"
      ]
     },
     "execution_count": 33,
     "metadata": {},
     "output_type": "execute_result"
    }
   ],
   "source": [
    "mergeddf.count()"
   ]
  },
  {
   "attachments": {},
   "cell_type": "markdown",
   "id": "157d1f1b-4bc6-44f6-9ee6-9d674f9f179a",
   "metadata": {},
   "source": [
    "**Saving the Progress till here**"
   ]
  },
  {
   "cell_type": "code",
   "execution_count": 34,
   "id": "0b3b284f-e783-4b5c-929b-4533c2c7028d",
   "metadata": {},
   "outputs": [],
   "source": [
    "mergeddf.write.csv(\"FnO03May23.csv\", header=True)"
   ]
  },
  {
   "attachments": {},
   "cell_type": "markdown",
   "id": "e87101c8-c202-40f8-856c-ceb44c0ea286",
   "metadata": {},
   "source": [
    "**The file got saved in 4 partitions why i dont know ?**"
   ]
  },
  {
   "cell_type": "code",
   "execution_count": 35,
   "id": "cfaa477a-5258-40d3-bc97-c3ee0bb5cc69",
   "metadata": {},
   "outputs": [],
   "source": [
    "mergeddf.repartition(1).write.format(\"csv\").save(\"FandO03May23merged.csv\")\n"
   ]
  },
  {
   "cell_type": "code",
   "execution_count": 36,
   "id": "1859a44e-a69d-42eb-9696-d793f1ef3b33",
   "metadata": {},
   "outputs": [],
   "source": [
    "mergeddf.write.mode('overwrite').option(\"header\", \"true\").csv('FandO03May23merged.csv')\n"
   ]
  },
  {
   "cell_type": "code",
   "execution_count": 37,
   "id": "f26a9eff-1d77-4d19-a876-b29e50fe1af7",
   "metadata": {},
   "outputs": [
    {
     "name": "stdout",
     "output_type": "stream",
     "text": [
      "root\n",
      " |-- INSTRUMENT: string (nullable = true)\n",
      " |-- SYMBOL: string (nullable = true)\n",
      " |-- STRIKE_PR: float (nullable = true)\n",
      " |-- OPTION_TYP: string (nullable = true)\n",
      " |-- OPEN: float (nullable = true)\n",
      " |-- HIGH: float (nullable = true)\n",
      " |-- LOW: float (nullable = true)\n",
      " |-- CLOSE: float (nullable = true)\n",
      " |-- SETTLE_PR: float (nullable = true)\n",
      " |-- CONTRACTS: integer (nullable = true)\n",
      " |-- VAL_INLAKH: float (nullable = true)\n",
      " |-- OPEN_INT: integer (nullable = true)\n",
      " |-- CHG_IN_OI: integer (nullable = true)\n",
      " |-- TIMESTAMP: string (nullable = true)\n",
      " |-- _c15: string (nullable = true)\n",
      " |-- EXPIRY_DT: string (nullable = true)\n",
      " |-- CLOSE_prev: float (nullable = true)\n",
      " |-- OPEN_INT_prev: integer (nullable = true)\n",
      "\n"
     ]
    }
   ],
   "source": [
    "mergeddf.printSchema()"
   ]
  },
  {
   "attachments": {},
   "cell_type": "markdown",
   "id": "e7b400fa-2ba5-43e0-b93a-ab0d7388e105",
   "metadata": {},
   "source": [
    "**Creating the change in Open Interset and  change in closing price**"
   ]
  },
  {
   "cell_type": "code",
   "execution_count": 39,
   "id": "b318eb3d-c055-49e7-9966-23465b9fc2c5",
   "metadata": {},
   "outputs": [],
   "source": [
    "new_merged = mergeddf.withColumn('CHANGE_IN_LTP', ((col('CLOSE')-col('CLOSE_prev'))/col('CLOSE_prev'))*100 )"
   ]
  },
  {
   "cell_type": "code",
   "execution_count": 40,
   "id": "a5295ef0-7332-4287-965e-029f44d316bd",
   "metadata": {},
   "outputs": [
    {
     "name": "stdout",
     "output_type": "stream",
     "text": [
      "root\n",
      " |-- INSTRUMENT: string (nullable = true)\n",
      " |-- SYMBOL: string (nullable = true)\n",
      " |-- STRIKE_PR: float (nullable = true)\n",
      " |-- OPTION_TYP: string (nullable = true)\n",
      " |-- OPEN: float (nullable = true)\n",
      " |-- HIGH: float (nullable = true)\n",
      " |-- LOW: float (nullable = true)\n",
      " |-- CLOSE: float (nullable = true)\n",
      " |-- SETTLE_PR: float (nullable = true)\n",
      " |-- CONTRACTS: integer (nullable = true)\n",
      " |-- VAL_INLAKH: float (nullable = true)\n",
      " |-- OPEN_INT: integer (nullable = true)\n",
      " |-- CHG_IN_OI: integer (nullable = true)\n",
      " |-- TIMESTAMP: string (nullable = true)\n",
      " |-- _c15: string (nullable = true)\n",
      " |-- EXPIRY_DT: string (nullable = true)\n",
      " |-- CLOSE_prev: float (nullable = true)\n",
      " |-- OPEN_INT_prev: integer (nullable = true)\n",
      " |-- CHANGE_IN_LTP: double (nullable = true)\n",
      "\n"
     ]
    }
   ],
   "source": [
    "new_merged.printSchema()"
   ]
  },
  {
   "cell_type": "code",
   "execution_count": 41,
   "id": "e2e53c6a-44a4-45e8-a80c-734417707cb2",
   "metadata": {},
   "outputs": [],
   "source": [
    "all_merged = new_merged.withColumn('CHANGE_IN_OI', ((col('OPEN_INT')-col('OPEN_INT_prev'))/col('OPEN_INT_prev'))*100 )"
   ]
  },
  {
   "cell_type": "code",
   "execution_count": 42,
   "id": "fdce4ca6-cf31-4c69-9b5c-47a86cf514b1",
   "metadata": {},
   "outputs": [
    {
     "name": "stdout",
     "output_type": "stream",
     "text": [
      "root\n",
      " |-- INSTRUMENT: string (nullable = true)\n",
      " |-- SYMBOL: string (nullable = true)\n",
      " |-- STRIKE_PR: float (nullable = true)\n",
      " |-- OPTION_TYP: string (nullable = true)\n",
      " |-- OPEN: float (nullable = true)\n",
      " |-- HIGH: float (nullable = true)\n",
      " |-- LOW: float (nullable = true)\n",
      " |-- CLOSE: float (nullable = true)\n",
      " |-- SETTLE_PR: float (nullable = true)\n",
      " |-- CONTRACTS: integer (nullable = true)\n",
      " |-- VAL_INLAKH: float (nullable = true)\n",
      " |-- OPEN_INT: integer (nullable = true)\n",
      " |-- CHG_IN_OI: integer (nullable = true)\n",
      " |-- TIMESTAMP: string (nullable = true)\n",
      " |-- _c15: string (nullable = true)\n",
      " |-- EXPIRY_DT: string (nullable = true)\n",
      " |-- CLOSE_prev: float (nullable = true)\n",
      " |-- OPEN_INT_prev: integer (nullable = true)\n",
      " |-- CHANGE_IN_LTP: double (nullable = true)\n",
      " |-- CHANGE_IN_OI: double (nullable = true)\n",
      "\n"
     ]
    }
   ],
   "source": [
    "all_merged.printSchema()"
   ]
  },
  {
   "cell_type": "code",
   "execution_count": 43,
   "id": "b1c4be10-732c-4c68-a601-888c493755ae",
   "metadata": {},
   "outputs": [
    {
     "data": {
      "text/plain": [
       "190"
      ]
     },
     "execution_count": 43,
     "metadata": {},
     "output_type": "execute_result"
    }
   ],
   "source": [
    "all_merged.count()"
   ]
  },
  {
   "cell_type": "code",
   "execution_count": 47,
   "id": "04cc6ee1-52e0-4e50-96e0-1903a5b3ed74",
   "metadata": {},
   "outputs": [],
   "source": [
    "# all_merged.repartition(1).write.format(\"csv\").save(\"Final_Result.csv\")\n",
    "#returns single file but with no headers"
   ]
  },
  {
   "cell_type": "code",
   "execution_count": 48,
   "id": "789b71cc-9e4d-4a9f-a275-496ed77afa8d",
   "metadata": {},
   "outputs": [],
   "source": [
    "# all_merged.write.mode('overwrite').option(\"header\", \"true\").csv('Final_Result.csv')\n",
    "# this two statements do not work , they return 4 partitions with header "
   ]
  },
  {
   "cell_type": "code",
   "execution_count": 49,
   "id": "0465fd68-6d1a-47fa-85b2-4aab14143d01",
   "metadata": {},
   "outputs": [],
   "source": [
    "all_merged.coalesce(1).write.format(\"csv\").option(\"header\", \"true\").save(\"Final_Result.csv\")"
   ]
  },
  {
   "cell_type": "code",
   "execution_count": 50,
   "id": "1a46aab8-85bc-4939-8e24-e39206258d2f",
   "metadata": {},
   "outputs": [
    {
     "name": "stdout",
     "output_type": "stream",
     "text": [
      "root\n",
      " |-- INSTRUMENT: string (nullable = true)\n",
      " |-- SYMBOL: string (nullable = true)\n",
      " |-- STRIKE_PR: float (nullable = true)\n",
      " |-- OPTION_TYP: string (nullable = true)\n",
      " |-- OPEN: float (nullable = true)\n",
      " |-- HIGH: float (nullable = true)\n",
      " |-- LOW: float (nullable = true)\n",
      " |-- CLOSE: float (nullable = true)\n",
      " |-- SETTLE_PR: float (nullable = true)\n",
      " |-- CONTRACTS: integer (nullable = true)\n",
      " |-- VAL_INLAKH: float (nullable = true)\n",
      " |-- OPEN_INT: integer (nullable = true)\n",
      " |-- CHG_IN_OI: integer (nullable = true)\n",
      " |-- TIMESTAMP: string (nullable = true)\n",
      " |-- _c15: string (nullable = true)\n",
      " |-- EXPIRY_DT: string (nullable = true)\n",
      " |-- CLOSE_prev: float (nullable = true)\n",
      " |-- OPEN_INT_prev: integer (nullable = true)\n",
      " |-- CHANGE_IN_LTP: double (nullable = true)\n",
      " |-- CHANGE_IN_OI: double (nullable = true)\n",
      "\n"
     ]
    }
   ],
   "source": [
    "all_merged.printSchema()"
   ]
  },
  {
   "cell_type": "code",
   "execution_count": 51,
   "id": "3b2c005c-1f1f-4bc0-8f44-4e0e5bccfbce",
   "metadata": {},
   "outputs": [
    {
     "data": {
      "text/plain": [
       "190"
      ]
     },
     "execution_count": 51,
     "metadata": {},
     "output_type": "execute_result"
    }
   ],
   "source": [
    "all_merged.count()"
   ]
  },
  {
   "cell_type": "code",
   "execution_count": 53,
   "id": "6a800218-663a-4d8a-a705-40c9bdde98a9",
   "metadata": {},
   "outputs": [],
   "source": [
    "# import matplotlib.pyplot as plt\n",
    "# from pyspark.sql.functions import histogram\n",
    "\n",
    "# # Assuming your DataFrame is named all_merged\n",
    "# hist_data = all_merged.select(\"CHANGE_IN_LTP\").rdd.flatMap(lambda x: x).histogram(20)\n",
    "# x_axis = hist_data[0]\n",
    "# y_axis = hist_data[1]\n",
    "# plt.bar(x_axis[:-1], y_axis, width=x_axis[1]-x_axis[0])\n",
    "# plt.show()\n",
    "#histogram is not available in python 3 later version"
   ]
  },
  {
   "attachments": {},
   "cell_type": "markdown",
   "id": "ba045f64-b5ad-4978-aee6-26bf94f4bba4",
   "metadata": {},
   "source": [
    "**Visualizing the distribution of CHANGE_IN_LTP values**\n",
    "** Higher the distribution towards change in extreme ends higher the chance of considering the stock**"
   ]
  },
  {
   "cell_type": "code",
   "execution_count": 54,
   "id": "52d11692-bc30-4fff-9b72-3520c208fe70",
   "metadata": {},
   "outputs": [
    {
     "name": "stdout",
     "output_type": "stream",
     "text": [
      "+---+-----+\n",
      "|bin|count|\n",
      "+---+-----+\n",
      "|0.0|    1|\n",
      "|2.0|   91|\n",
      "|3.0|   96|\n",
      "|4.0|    2|\n",
      "+---+-----+\n",
      "\n"
     ]
    }
   ],
   "source": [
    "from pyspark.ml.feature import Bucketizer\n",
    "from pyspark.sql.functions import col\n",
    "\n",
    "# create a bucketizer to bin the values of CHANGE_IN_LTP column\n",
    "bucketizer = Bucketizer(splits=[float(\"-inf\"), -10, -5, 0, 5, 10, float(\"inf\")], inputCol=\"CHANGE_IN_LTP\", outputCol=\"bin\")\n",
    "\n",
    "# apply the bucketizer to the DataFrame\n",
    "binned_data = bucketizer.transform(all_merged)\n",
    "\n",
    "# use the groupBy and count functions to count the number of rows in each bin\n",
    "histogram_data = binned_data.groupBy(\"bin\").count().orderBy(\"bin\")\n",
    "\n",
    "# display the histogram\n",
    "histogram_data.show()\n"
   ]
  },
  {
   "cell_type": "code",
   "execution_count": 55,
   "id": "37a6f140-c271-4a1a-9543-5419b31169cd",
   "metadata": {},
   "outputs": [
    {
     "data": {
      "image/png": "[encoded data removed]",
      "text/plain": [
       "<Figure size 640x480 with 1 Axes>"
      ]
     },
     "metadata": {},
     "output_type": "display_data"
    }
   ],
   "source": [
    "import matplotlib.pyplot as plt\n",
    "import numpy as np\n",
    "\n",
    "# Convert the DataFrame to a Pandas DataFrame for plotting\n",
    "pdf = all_merged.select('CHANGE_IN_LTP').toPandas()\n",
    "\n",
    "# Plot the histogram\n",
    "n, bins, patches = plt.hist(x=pdf, bins=20, color='#0504aa', alpha=0.7, rwidth=0.85)\n",
    "\n",
    "plt.grid(axis='y', alpha=0.75)\n",
    "plt.xlabel('Value')\n",
    "plt.ylabel('Frequency')\n",
    "plt.title('Distribution of CHANGE_IN_LTP')\n",
    "\n",
    "plt.show()\n"
   ]
  },
  {
   "attachments": {},
   "cell_type": "markdown",
   "id": "e536c0fe-6a8f-49c4-9184-6d9946c81238",
   "metadata": {},
   "source": [
    "**Filter for LONG BUILD UP**  10% or above OI and 2% or above close change"
   ]
  },
  {
   "cell_type": "code",
   "execution_count": 60,
   "id": "bfb9a1ae-253a-401b-93a3-a8130094c089",
   "metadata": {},
   "outputs": [],
   "source": [
    "long_buildup=all_merged.filter((col('CHANGE_IN_OI') > 8.5) & (col('CHANGE_IN_LTP') > 2) ).select(col('INSTRUMENT'),col('SYMBOL'),col('CHANGE_IN_OI'),col('CHANGE_IN_LTP'))"
   ]
  },
  {
   "cell_type": "code",
   "execution_count": 71,
   "id": "f126e4be-7d87-4e24-a019-dbe6cbf5b50e",
   "metadata": {},
   "outputs": [],
   "source": [
    "from pyspark.sql.functions import lit\n",
    "\n",
    "longbuildupdf=long_buildup.withColumn(\"CALL\",lit(\"Buy CE or Sell PE if uptrend confirms\")).drop(\"LONG_BUILDUP\")"
   ]
  },
  {
   "cell_type": "code",
   "execution_count": 78,
   "id": "0a0f8bf6-2c7b-43dc-a3d0-aa5a9d2a1072",
   "metadata": {},
   "outputs": [],
   "source": [
    "longbuildupdf=longbuildupdf.withColumn(\"CALL_TYPE\",lit(\"LONG_BUILDUP\"))"
   ]
  },
  {
   "cell_type": "code",
   "execution_count": 82,
   "id": "84493dc8-470b-4fd0-9da5-e1eefb94fee6",
   "metadata": {},
   "outputs": [
    {
     "name": "stdout",
     "output_type": "stream",
     "text": [
      "root\n",
      " |-- INSTRUMENT: string (nullable = true)\n",
      " |-- SYMBOL: string (nullable = true)\n",
      " |-- CHANGE_IN_OI: double (nullable = true)\n",
      " |-- CHANGE_IN_LTP: double (nullable = true)\n",
      " |-- CALL: string (nullable = false)\n",
      " |-- CALL_TYPE: string (nullable = false)\n",
      "\n"
     ]
    }
   ],
   "source": [
    "longbuildupdf.printSchema()"
   ]
  },
  {
   "attachments": {},
   "cell_type": "markdown",
   "id": "6f4e0085-6c39-4d04-ba44-6d959104422c",
   "metadata": {},
   "source": [
    "**Filter for SHORT BUILD UP**  10% or above OI and -2% or above close change"
   ]
  },
  {
   "cell_type": "code",
   "execution_count": 64,
   "id": "e3a0abe2-8cfe-4e61-a99b-5c1528d24126",
   "metadata": {},
   "outputs": [],
   "source": [
    "short_buildup=all_merged.filter((col('CHANGE_IN_OI') > 8.5) & (col('CHANGE_IN_LTP') > -1.8) ).select(col('INSTRUMENT'),col('SYMBOL'),col('CHANGE_IN_OI'),col('CHANGE_IN_LTP'))"
   ]
  },
  {
   "cell_type": "code",
   "execution_count": 72,
   "id": "8dc20104-ad1c-4d31-8d5e-c9bdb68872bc",
   "metadata": {},
   "outputs": [],
   "source": [
    "from pyspark.sql.functions import lit\n",
    "\n",
    "shortbuildupdf=short_buildup.withColumn(\"CALL\",lit(\"Buy PE or Sell CE if downtrend confirms\")).drop(\"SHORT_BUILDUP\")"
   ]
  },
  {
   "cell_type": "code",
   "execution_count": 79,
   "id": "8b584f72-863d-4562-a4fa-b5cbc2468df3",
   "metadata": {},
   "outputs": [],
   "source": [
    "shortbuildupdf=shortbuildupdf.withColumn(\"CALL_TYPE\",lit(\"SHORT_BUILDUP\"))"
   ]
  },
  {
   "cell_type": "code",
   "execution_count": 83,
   "id": "f035b9bb-caf1-448b-b684-8e723d65ed72",
   "metadata": {},
   "outputs": [
    {
     "name": "stdout",
     "output_type": "stream",
     "text": [
      "root\n",
      " |-- INSTRUMENT: string (nullable = true)\n",
      " |-- SYMBOL: string (nullable = true)\n",
      " |-- CHANGE_IN_OI: double (nullable = true)\n",
      " |-- CHANGE_IN_LTP: double (nullable = true)\n",
      " |-- CALL: string (nullable = false)\n",
      " |-- CALL_TYPE: string (nullable = false)\n",
      "\n"
     ]
    }
   ],
   "source": [
    "shortbuildupdf.printSchema()"
   ]
  },
  {
   "attachments": {},
   "cell_type": "markdown",
   "id": "26075855-e7a1-48d2-ada6-667d1be67c6d",
   "metadata": {},
   "source": [
    "**Filter for LONG UNWINDING**  -10% or above OI and -2% or above close change"
   ]
  },
  {
   "cell_type": "code",
   "execution_count": 66,
   "id": "1725123a-ff35-45ec-8420-096b194eab35",
   "metadata": {},
   "outputs": [],
   "source": [
    "long_unwinding=all_merged.filter((col('CHANGE_IN_OI') > -8.5) & (col('CHANGE_IN_LTP') > -2) ).select(col('INSTRUMENT'),col('SYMBOL'),col('CHANGE_IN_OI'),col('CHANGE_IN_LTP'))"
   ]
  },
  {
   "cell_type": "code",
   "execution_count": 73,
   "id": "2cc3bc7d-85b4-4eb0-9131-f107768af403",
   "metadata": {},
   "outputs": [],
   "source": [
    "longunwindingdf=long_unwinding.withColumn(\"CALL\",lit(\"Buy PE or Sell CE if downtrend confirms\")).drop(\"LONG_UNWINDING\")"
   ]
  },
  {
   "cell_type": "code",
   "execution_count": 80,
   "id": "30074be2-d678-4b87-b407-85dc2ba7ba2e",
   "metadata": {},
   "outputs": [],
   "source": [
    "longunwindingdf=longunwindingdf.withColumn(\"CALL_TYPE\",lit(\"LONG_UNWINDING\"))"
   ]
  },
  {
   "cell_type": "code",
   "execution_count": 84,
   "id": "82a86925-a739-44f9-bef2-82dc32b106b8",
   "metadata": {},
   "outputs": [
    {
     "name": "stdout",
     "output_type": "stream",
     "text": [
      "root\n",
      " |-- INSTRUMENT: string (nullable = true)\n",
      " |-- SYMBOL: string (nullable = true)\n",
      " |-- CHANGE_IN_OI: double (nullable = true)\n",
      " |-- CHANGE_IN_LTP: double (nullable = true)\n",
      " |-- CALL: string (nullable = false)\n",
      " |-- CALL_TYPE: string (nullable = false)\n",
      "\n"
     ]
    }
   ],
   "source": [
    "longunwindingdf.printSchema()"
   ]
  },
  {
   "attachments": {},
   "cell_type": "markdown",
   "id": "6ea3e782-2257-46a5-81b0-eca45d39d435",
   "metadata": {},
   "source": [
    "**Filter for SHORT UNWINDING**  -10% or above OI and 2% or above close change"
   ]
  },
  {
   "cell_type": "code",
   "execution_count": 69,
   "id": "e7fb969f-7582-4a56-9f52-de48518efe89",
   "metadata": {},
   "outputs": [],
   "source": [
    "short_unwinding=all_merged.filter((col('CHANGE_IN_OI') > -8.5) & (col('CHANGE_IN_LTP') > 2) ).select(col('INSTRUMENT'),col('SYMBOL'),col('CHANGE_IN_OI'),col('CHANGE_IN_LTP'))"
   ]
  },
  {
   "cell_type": "code",
   "execution_count": 74,
   "id": "773cdefe-18e3-4d4e-bfde-517b3250dc45",
   "metadata": {},
   "outputs": [],
   "source": [
    "shortunwindingdf=short_unwinding.withColumn(\"CALL\",lit(\"Buy CE or Sell PE if uptrend confirms\")).drop(\"SHORT UNWINDING\")"
   ]
  },
  {
   "cell_type": "code",
   "execution_count": 81,
   "id": "7b52e435-53b8-46da-a8f1-ac79aaf1ab8b",
   "metadata": {},
   "outputs": [],
   "source": [
    "shortunwindingdf=shortunwindingdf.withColumn(\"CALL_TYPE\",lit(\"SHORT_UNWINDING\"))"
   ]
  },
  {
   "cell_type": "code",
   "execution_count": 85,
   "id": "78b6374d-0d04-4745-8b86-d75755110ca9",
   "metadata": {},
   "outputs": [
    {
     "name": "stdout",
     "output_type": "stream",
     "text": [
      "root\n",
      " |-- INSTRUMENT: string (nullable = true)\n",
      " |-- SYMBOL: string (nullable = true)\n",
      " |-- CHANGE_IN_OI: double (nullable = true)\n",
      " |-- CHANGE_IN_LTP: double (nullable = true)\n",
      " |-- CALL: string (nullable = false)\n",
      " |-- CALL_TYPE: string (nullable = false)\n",
      "\n"
     ]
    }
   ],
   "source": [
    "shortunwindingdf.printSchema()"
   ]
  },
  {
   "cell_type": "code",
   "execution_count": 86,
   "id": "9dc61324-fdaf-4433-8137-e70de58f1dfe",
   "metadata": {},
   "outputs": [],
   "source": [
    "calls_today=longbuildupdf.union(shortbuildupdf).union(longunwindingdf).union(shortunwindingdf)"
   ]
  },
  {
   "cell_type": "code",
   "execution_count": 89,
   "id": "040e3f4d-1f96-4d2d-a9d1-694b91491bba",
   "metadata": {},
   "outputs": [
    {
     "ename": "ConnectionRefusedError",
     "evalue": "[WinError 10061] No connection could be made because the target machine actively refused it",
     "output_type": "error",
     "traceback": [
      "\u001b[1;31m---------------------------------------------------------------------------\u001b[0m",
      "\u001b[1;31mConnectionResetError\u001b[0m                      Traceback (most recent call last)",
      "File \u001b[1;32mC:\\spark\\spark-3.4.0-bin-hadoop3-scala2.13\\python\\lib\\py4j-0.10.9.7-src.zip\\py4j\\clientserver.py:503\u001b[0m, in \u001b[0;36mClientServerConnection.send_command\u001b[1;34m(self, command)\u001b[0m\n\u001b[0;32m    502\u001b[0m \u001b[38;5;28;01mtry\u001b[39;00m:\n\u001b[1;32m--> 503\u001b[0m     \u001b[38;5;28;43mself\u001b[39;49m\u001b[38;5;241;43m.\u001b[39;49m\u001b[43msocket\u001b[49m\u001b[38;5;241;43m.\u001b[39;49m\u001b[43msendall\u001b[49m\u001b[43m(\u001b[49m\u001b[43mcommand\u001b[49m\u001b[38;5;241;43m.\u001b[39;49m\u001b[43mencode\u001b[49m\u001b[43m(\u001b[49m\u001b[38;5;124;43m\"\u001b[39;49m\u001b[38;5;124;43mutf-8\u001b[39;49m\u001b[38;5;124;43m\"\u001b[39;49m\u001b[43m)\u001b[49m\u001b[43m)\u001b[49m\n\u001b[0;32m    504\u001b[0m \u001b[38;5;28;01mexcept\u001b[39;00m \u001b[38;5;167;01mException\u001b[39;00m \u001b[38;5;28;01mas\u001b[39;00m e:\n",
      "\u001b[1;31mConnectionResetError\u001b[0m: [WinError 10054] An existing connection was forcibly closed by the remote host",
      "\nDuring handling of the above exception, another exception occurred:\n",
      "\u001b[1;31mPy4JNetworkError\u001b[0m                          Traceback (most recent call last)",
      "File \u001b[1;32mC:\\spark\\spark-3.4.0-bin-hadoop3-scala2.13\\python\\lib\\py4j-0.10.9.7-src.zip\\py4j\\java_gateway.py:1038\u001b[0m, in \u001b[0;36mGatewayClient.send_command\u001b[1;34m(self, command, retry, binary)\u001b[0m\n\u001b[0;32m   1037\u001b[0m \u001b[38;5;28;01mtry\u001b[39;00m:\n\u001b[1;32m-> 1038\u001b[0m     response \u001b[38;5;241m=\u001b[39m \u001b[43mconnection\u001b[49m\u001b[38;5;241;43m.\u001b[39;49m\u001b[43msend_command\u001b[49m\u001b[43m(\u001b[49m\u001b[43mcommand\u001b[49m\u001b[43m)\u001b[49m\n\u001b[0;32m   1039\u001b[0m     \u001b[38;5;28;01mif\u001b[39;00m binary:\n",
      "File \u001b[1;32mC:\\spark\\spark-3.4.0-bin-hadoop3-scala2.13\\python\\lib\\py4j-0.10.9.7-src.zip\\py4j\\clientserver.py:506\u001b[0m, in \u001b[0;36mClientServerConnection.send_command\u001b[1;34m(self, command)\u001b[0m\n\u001b[0;32m    505\u001b[0m     logger\u001b[38;5;241m.\u001b[39minfo(\u001b[38;5;124m\"\u001b[39m\u001b[38;5;124mError while sending or receiving.\u001b[39m\u001b[38;5;124m\"\u001b[39m, exc_info\u001b[38;5;241m=\u001b[39m\u001b[38;5;28;01mTrue\u001b[39;00m)\n\u001b[1;32m--> 506\u001b[0m     \u001b[38;5;28;01mraise\u001b[39;00m Py4JNetworkError(\n\u001b[0;32m    507\u001b[0m         \u001b[38;5;124m\"\u001b[39m\u001b[38;5;124mError while sending\u001b[39m\u001b[38;5;124m\"\u001b[39m, e, proto\u001b[38;5;241m.\u001b[39mERROR_ON_SEND)\n\u001b[0;32m    509\u001b[0m \u001b[38;5;28;01mtry\u001b[39;00m:\n",
      "\u001b[1;31mPy4JNetworkError\u001b[0m: Error while sending",
      "\nDuring handling of the above exception, another exception occurred:\n",
      "\u001b[1;31mConnectionRefusedError\u001b[0m                    Traceback (most recent call last)",
      "Cell \u001b[1;32mIn[89], line 1\u001b[0m\n\u001b[1;32m----> 1\u001b[0m \u001b[43mcalls_today\u001b[49m\u001b[38;5;241;43m.\u001b[39;49m\u001b[43mtake\u001b[49m\u001b[43m(\u001b[49m\u001b[38;5;241;43m3\u001b[39;49m\u001b[43m)\u001b[49m\n",
      "File \u001b[1;32mC:\\spark\\spark-3.4.0-bin-hadoop3-scala2.13\\python\\pyspark\\sql\\dataframe.py:1322\u001b[0m, in \u001b[0;36mDataFrame.take\u001b[1;34m(self, num)\u001b[0m\n\u001b[0;32m   1293\u001b[0m \u001b[38;5;28;01mdef\u001b[39;00m \u001b[38;5;21mtake\u001b[39m(\u001b[38;5;28mself\u001b[39m, num: \u001b[38;5;28mint\u001b[39m) \u001b[38;5;241m-\u001b[39m\u001b[38;5;241m>\u001b[39m List[Row]:\n\u001b[0;32m   1294\u001b[0m     \u001b[38;5;124;03m\"\"\"Returns the first ``num`` rows as a :class:`list` of :class:`Row`.\u001b[39;00m\n\u001b[0;32m   1295\u001b[0m \n\u001b[0;32m   1296\u001b[0m \u001b[38;5;124;03m    .. versionadded:: 1.3.0\u001b[39;00m\n\u001b[1;32m   (...)\u001b[0m\n\u001b[0;32m   1320\u001b[0m \u001b[38;5;124;03m    [Row(age=14, name='Tom'), Row(age=23, name='Alice')]\u001b[39;00m\n\u001b[0;32m   1321\u001b[0m \u001b[38;5;124;03m    \"\"\"\u001b[39;00m\n\u001b[1;32m-> 1322\u001b[0m     \u001b[38;5;28;01mreturn\u001b[39;00m \u001b[38;5;28;43mself\u001b[39;49m\u001b[38;5;241;43m.\u001b[39;49m\u001b[43mlimit\u001b[49m\u001b[43m(\u001b[49m\u001b[43mnum\u001b[49m\u001b[43m)\u001b[49m\u001b[38;5;241m.\u001b[39mcollect()\n",
      "File \u001b[1;32mC:\\spark\\spark-3.4.0-bin-hadoop3-scala2.13\\python\\pyspark\\sql\\dataframe.py:1290\u001b[0m, in \u001b[0;36mDataFrame.limit\u001b[1;34m(self, num)\u001b[0m\n\u001b[0;32m   1255\u001b[0m \u001b[38;5;28;01mdef\u001b[39;00m \u001b[38;5;21mlimit\u001b[39m(\u001b[38;5;28mself\u001b[39m, num: \u001b[38;5;28mint\u001b[39m) \u001b[38;5;241m-\u001b[39m\u001b[38;5;241m>\u001b[39m \u001b[38;5;124m\"\u001b[39m\u001b[38;5;124mDataFrame\u001b[39m\u001b[38;5;124m\"\u001b[39m:\n\u001b[0;32m   1256\u001b[0m     \u001b[38;5;124;03m\"\"\"Limits the result count to the number specified.\u001b[39;00m\n\u001b[0;32m   1257\u001b[0m \n\u001b[0;32m   1258\u001b[0m \u001b[38;5;124;03m    .. versionadded:: 1.3.0\u001b[39;00m\n\u001b[1;32m   (...)\u001b[0m\n\u001b[0;32m   1288\u001b[0m \u001b[38;5;124;03m    +---+----+\u001b[39;00m\n\u001b[0;32m   1289\u001b[0m \u001b[38;5;124;03m    \"\"\"\u001b[39;00m\n\u001b[1;32m-> 1290\u001b[0m     jdf \u001b[38;5;241m=\u001b[39m \u001b[38;5;28;43mself\u001b[39;49m\u001b[38;5;241;43m.\u001b[39;49m\u001b[43m_jdf\u001b[49m\u001b[38;5;241;43m.\u001b[39;49m\u001b[43mlimit\u001b[49m\u001b[43m(\u001b[49m\u001b[43mnum\u001b[49m\u001b[43m)\u001b[49m\n\u001b[0;32m   1291\u001b[0m     \u001b[38;5;28;01mreturn\u001b[39;00m DataFrame(jdf, \u001b[38;5;28mself\u001b[39m\u001b[38;5;241m.\u001b[39msparkSession)\n",
      "File \u001b[1;32mC:\\spark\\spark-3.4.0-bin-hadoop3-scala2.13\\python\\lib\\py4j-0.10.9.7-src.zip\\py4j\\java_gateway.py:1321\u001b[0m, in \u001b[0;36mJavaMember.__call__\u001b[1;34m(self, *args)\u001b[0m\n\u001b[0;32m   1314\u001b[0m args_command, temp_args \u001b[38;5;241m=\u001b[39m \u001b[38;5;28mself\u001b[39m\u001b[38;5;241m.\u001b[39m_build_args(\u001b[38;5;241m*\u001b[39margs)\n\u001b[0;32m   1316\u001b[0m command \u001b[38;5;241m=\u001b[39m proto\u001b[38;5;241m.\u001b[39mCALL_COMMAND_NAME \u001b[38;5;241m+\u001b[39m\\\n\u001b[0;32m   1317\u001b[0m     \u001b[38;5;28mself\u001b[39m\u001b[38;5;241m.\u001b[39mcommand_header \u001b[38;5;241m+\u001b[39m\\\n\u001b[0;32m   1318\u001b[0m     args_command \u001b[38;5;241m+\u001b[39m\\\n\u001b[0;32m   1319\u001b[0m     proto\u001b[38;5;241m.\u001b[39mEND_COMMAND_PART\n\u001b[1;32m-> 1321\u001b[0m answer \u001b[38;5;241m=\u001b[39m \u001b[38;5;28;43mself\u001b[39;49m\u001b[38;5;241;43m.\u001b[39;49m\u001b[43mgateway_client\u001b[49m\u001b[38;5;241;43m.\u001b[39;49m\u001b[43msend_command\u001b[49m\u001b[43m(\u001b[49m\u001b[43mcommand\u001b[49m\u001b[43m)\u001b[49m\n\u001b[0;32m   1322\u001b[0m return_value \u001b[38;5;241m=\u001b[39m get_return_value(\n\u001b[0;32m   1323\u001b[0m     answer, \u001b[38;5;28mself\u001b[39m\u001b[38;5;241m.\u001b[39mgateway_client, \u001b[38;5;28mself\u001b[39m\u001b[38;5;241m.\u001b[39mtarget_id, \u001b[38;5;28mself\u001b[39m\u001b[38;5;241m.\u001b[39mname)\n\u001b[0;32m   1325\u001b[0m \u001b[38;5;28;01mfor\u001b[39;00m temp_arg \u001b[38;5;129;01min\u001b[39;00m temp_args:\n",
      "File \u001b[1;32mC:\\spark\\spark-3.4.0-bin-hadoop3-scala2.13\\python\\lib\\py4j-0.10.9.7-src.zip\\py4j\\java_gateway.py:1053\u001b[0m, in \u001b[0;36mGatewayClient.send_command\u001b[1;34m(self, command, retry, binary)\u001b[0m\n\u001b[0;32m   1051\u001b[0m \u001b[38;5;28;01mif\u001b[39;00m \u001b[38;5;28mself\u001b[39m\u001b[38;5;241m.\u001b[39m_should_retry(retry, connection, pne):\n\u001b[0;32m   1052\u001b[0m     logging\u001b[38;5;241m.\u001b[39minfo(\u001b[38;5;124m\"\u001b[39m\u001b[38;5;124mException while sending command.\u001b[39m\u001b[38;5;124m\"\u001b[39m, exc_info\u001b[38;5;241m=\u001b[39m\u001b[38;5;28;01mTrue\u001b[39;00m)\n\u001b[1;32m-> 1053\u001b[0m     response \u001b[38;5;241m=\u001b[39m \u001b[38;5;28;43mself\u001b[39;49m\u001b[38;5;241;43m.\u001b[39;49m\u001b[43msend_command\u001b[49m\u001b[43m(\u001b[49m\u001b[43mcommand\u001b[49m\u001b[43m,\u001b[49m\u001b[43m \u001b[49m\u001b[43mbinary\u001b[49m\u001b[38;5;241;43m=\u001b[39;49m\u001b[43mbinary\u001b[49m\u001b[43m)\u001b[49m\n\u001b[0;32m   1054\u001b[0m \u001b[38;5;28;01melse\u001b[39;00m:\n\u001b[0;32m   1055\u001b[0m     logging\u001b[38;5;241m.\u001b[39mexception(\n\u001b[0;32m   1056\u001b[0m         \u001b[38;5;124m\"\u001b[39m\u001b[38;5;124mException while sending command.\u001b[39m\u001b[38;5;124m\"\u001b[39m)\n",
      "File \u001b[1;32mC:\\spark\\spark-3.4.0-bin-hadoop3-scala2.13\\python\\lib\\py4j-0.10.9.7-src.zip\\py4j\\java_gateway.py:1036\u001b[0m, in \u001b[0;36mGatewayClient.send_command\u001b[1;34m(self, command, retry, binary)\u001b[0m\n\u001b[0;32m   1015\u001b[0m \u001b[38;5;28;01mdef\u001b[39;00m \u001b[38;5;21msend_command\u001b[39m(\u001b[38;5;28mself\u001b[39m, command, retry\u001b[38;5;241m=\u001b[39m\u001b[38;5;28;01mTrue\u001b[39;00m, binary\u001b[38;5;241m=\u001b[39m\u001b[38;5;28;01mFalse\u001b[39;00m):\n\u001b[0;32m   1016\u001b[0m     \u001b[38;5;124;03m\"\"\"Sends a command to the JVM. This method is not intended to be\u001b[39;00m\n\u001b[0;32m   1017\u001b[0m \u001b[38;5;124;03m       called directly by Py4J users. It is usually called by\u001b[39;00m\n\u001b[0;32m   1018\u001b[0m \u001b[38;5;124;03m       :class:`JavaMember` instances.\u001b[39;00m\n\u001b[1;32m   (...)\u001b[0m\n\u001b[0;32m   1034\u001b[0m \u001b[38;5;124;03m     if `binary` is `True`.\u001b[39;00m\n\u001b[0;32m   1035\u001b[0m \u001b[38;5;124;03m    \"\"\"\u001b[39;00m\n\u001b[1;32m-> 1036\u001b[0m     connection \u001b[38;5;241m=\u001b[39m \u001b[38;5;28;43mself\u001b[39;49m\u001b[38;5;241;43m.\u001b[39;49m\u001b[43m_get_connection\u001b[49m\u001b[43m(\u001b[49m\u001b[43m)\u001b[49m\n\u001b[0;32m   1037\u001b[0m     \u001b[38;5;28;01mtry\u001b[39;00m:\n\u001b[0;32m   1038\u001b[0m         response \u001b[38;5;241m=\u001b[39m connection\u001b[38;5;241m.\u001b[39msend_command(command)\n",
      "File \u001b[1;32mC:\\spark\\spark-3.4.0-bin-hadoop3-scala2.13\\python\\lib\\py4j-0.10.9.7-src.zip\\py4j\\clientserver.py:284\u001b[0m, in \u001b[0;36mJavaClient._get_connection\u001b[1;34m(self)\u001b[0m\n\u001b[0;32m    281\u001b[0m     \u001b[38;5;28;01mpass\u001b[39;00m\n\u001b[0;32m    283\u001b[0m \u001b[38;5;28;01mif\u001b[39;00m connection \u001b[38;5;129;01mis\u001b[39;00m \u001b[38;5;28;01mNone\u001b[39;00m \u001b[38;5;129;01mor\u001b[39;00m connection\u001b[38;5;241m.\u001b[39msocket \u001b[38;5;129;01mis\u001b[39;00m \u001b[38;5;28;01mNone\u001b[39;00m:\n\u001b[1;32m--> 284\u001b[0m     connection \u001b[38;5;241m=\u001b[39m \u001b[38;5;28;43mself\u001b[39;49m\u001b[38;5;241;43m.\u001b[39;49m\u001b[43m_create_new_connection\u001b[49m\u001b[43m(\u001b[49m\u001b[43m)\u001b[49m\n\u001b[0;32m    285\u001b[0m \u001b[38;5;28;01mreturn\u001b[39;00m connection\n",
      "File \u001b[1;32mC:\\spark\\spark-3.4.0-bin-hadoop3-scala2.13\\python\\lib\\py4j-0.10.9.7-src.zip\\py4j\\clientserver.py:291\u001b[0m, in \u001b[0;36mJavaClient._create_new_connection\u001b[1;34m(self)\u001b[0m\n\u001b[0;32m    287\u001b[0m \u001b[38;5;28;01mdef\u001b[39;00m \u001b[38;5;21m_create_new_connection\u001b[39m(\u001b[38;5;28mself\u001b[39m):\n\u001b[0;32m    288\u001b[0m     connection \u001b[38;5;241m=\u001b[39m ClientServerConnection(\n\u001b[0;32m    289\u001b[0m         \u001b[38;5;28mself\u001b[39m\u001b[38;5;241m.\u001b[39mjava_parameters, \u001b[38;5;28mself\u001b[39m\u001b[38;5;241m.\u001b[39mpython_parameters,\n\u001b[0;32m    290\u001b[0m         \u001b[38;5;28mself\u001b[39m\u001b[38;5;241m.\u001b[39mgateway_property, \u001b[38;5;28mself\u001b[39m)\n\u001b[1;32m--> 291\u001b[0m     \u001b[43mconnection\u001b[49m\u001b[38;5;241;43m.\u001b[39;49m\u001b[43mconnect_to_java_server\u001b[49m\u001b[43m(\u001b[49m\u001b[43m)\u001b[49m\n\u001b[0;32m    292\u001b[0m     \u001b[38;5;28mself\u001b[39m\u001b[38;5;241m.\u001b[39mset_thread_connection(connection)\n\u001b[0;32m    293\u001b[0m     \u001b[38;5;28;01mreturn\u001b[39;00m connection\n",
      "File \u001b[1;32mC:\\spark\\spark-3.4.0-bin-hadoop3-scala2.13\\python\\lib\\py4j-0.10.9.7-src.zip\\py4j\\clientserver.py:438\u001b[0m, in \u001b[0;36mClientServerConnection.connect_to_java_server\u001b[1;34m(self)\u001b[0m\n\u001b[0;32m    435\u001b[0m \u001b[38;5;28;01mif\u001b[39;00m \u001b[38;5;28mself\u001b[39m\u001b[38;5;241m.\u001b[39mssl_context:\n\u001b[0;32m    436\u001b[0m     \u001b[38;5;28mself\u001b[39m\u001b[38;5;241m.\u001b[39msocket \u001b[38;5;241m=\u001b[39m \u001b[38;5;28mself\u001b[39m\u001b[38;5;241m.\u001b[39mssl_context\u001b[38;5;241m.\u001b[39mwrap_socket(\n\u001b[0;32m    437\u001b[0m         \u001b[38;5;28mself\u001b[39m\u001b[38;5;241m.\u001b[39msocket, server_hostname\u001b[38;5;241m=\u001b[39m\u001b[38;5;28mself\u001b[39m\u001b[38;5;241m.\u001b[39mjava_address)\n\u001b[1;32m--> 438\u001b[0m \u001b[38;5;28;43mself\u001b[39;49m\u001b[38;5;241;43m.\u001b[39;49m\u001b[43msocket\u001b[49m\u001b[38;5;241;43m.\u001b[39;49m\u001b[43mconnect\u001b[49m\u001b[43m(\u001b[49m\u001b[43m(\u001b[49m\u001b[38;5;28;43mself\u001b[39;49m\u001b[38;5;241;43m.\u001b[39;49m\u001b[43mjava_address\u001b[49m\u001b[43m,\u001b[49m\u001b[43m \u001b[49m\u001b[38;5;28;43mself\u001b[39;49m\u001b[38;5;241;43m.\u001b[39;49m\u001b[43mjava_port\u001b[49m\u001b[43m)\u001b[49m\u001b[43m)\u001b[49m\n\u001b[0;32m    439\u001b[0m \u001b[38;5;28mself\u001b[39m\u001b[38;5;241m.\u001b[39mstream \u001b[38;5;241m=\u001b[39m \u001b[38;5;28mself\u001b[39m\u001b[38;5;241m.\u001b[39msocket\u001b[38;5;241m.\u001b[39mmakefile(\u001b[38;5;124m\"\u001b[39m\u001b[38;5;124mrb\u001b[39m\u001b[38;5;124m\"\u001b[39m)\n\u001b[0;32m    440\u001b[0m \u001b[38;5;28mself\u001b[39m\u001b[38;5;241m.\u001b[39mis_connected \u001b[38;5;241m=\u001b[39m \u001b[38;5;28;01mTrue\u001b[39;00m\n",
      "\u001b[1;31mConnectionRefusedError\u001b[0m: [WinError 10061] No connection could be made because the target machine actively refused it"
     ]
    }
   ],
   "source": [
    "calls_today.take(3)"
   ]
  },
  {
   "cell_type": "code",
   "execution_count": null,
   "id": "fe839951-3fbb-4f36-b78d-1256dd8a7aae",
   "metadata": {},
   "outputs": [],
   "source": []
  }
 ],
 "metadata": {
  "kernelspec": {
   "display_name": "Python 3 (ipykernel)",
   "language": "python",
   "name": "python3"
  },
  "language_info": {
   "codemirror_mode": {
    "name": "ipython",
    "version": 3
   },
   "file_extension": ".py",
   "mimetype": "text/x-python",
   "name": "python",
   "nbconvert_exporter": "python",
   "pygments_lexer": "ipython3",
   "version": "3.10.9"
  }
 },
 "nbformat": 4,
 "nbformat_minor": 5
}
